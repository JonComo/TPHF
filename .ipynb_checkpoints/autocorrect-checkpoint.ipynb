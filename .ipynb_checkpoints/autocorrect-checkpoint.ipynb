{
 "cells": [
  {
   "cell_type": "code",
   "execution_count": 8,
   "id": "82109c4a",
   "metadata": {},
   "outputs": [
    {
     "name": "stdout",
     "output_type": "stream",
     "text": [
      "Requirement already satisfied: symspellpy in /home/jon/miniconda3/envs/py37/lib/python3.7/site-packages (6.7.0)\n",
      "Requirement already satisfied: numpy>=1.13.1 in /home/jon/miniconda3/envs/py37/lib/python3.7/site-packages (from symspellpy) (1.19.2)\n"
     ]
    }
   ],
   "source": [
    "!pip install symspellpy\n",
    "import os\n",
    "import platform\n",
    "import pkg_resources\n",
    "import json\n",
    "from symspellpy import SymSpell, Verbosity"
   ]
  },
  {
   "cell_type": "code",
   "execution_count": 2,
   "id": "5f5a74bf",
   "metadata": {},
   "outputs": [
    {
     "data": {
      "text/plain": [
       "True"
      ]
     },
     "execution_count": 2,
     "metadata": {},
     "output_type": "execute_result"
    }
   ],
   "source": [
    "sym_spell = SymSpell(max_dictionary_edit_distance=2, prefix_length=7)\n",
    "dictionary_path = pkg_resources.resource_filename(\n",
    "    \"symspellpy\", \"frequency_dictionary_en_82_765.txt\")\n",
    "bigram_path = pkg_resources.resource_filename(\n",
    "    \"symspellpy\", \"frequency_bigramdictionary_en_243_342.txt\")\n",
    "\n",
    "sym_spell.load_dictionary(dictionary_path, term_index=0, count_index=1)\n",
    "sym_spell.load_bigram_dictionary(bigram_path, term_index=0, count_index=2)"
   ]
  },
  {
   "cell_type": "code",
   "execution_count": 11,
   "id": "d7810805",
   "metadata": {},
   "outputs": [
    {
     "data": {
      "text/html": [
       "<div>\n",
       "<style scoped>\n",
       "    .dataframe tbody tr th:only-of-type {\n",
       "        vertical-align: middle;\n",
       "    }\n",
       "\n",
       "    .dataframe tbody tr th {\n",
       "        vertical-align: top;\n",
       "    }\n",
       "\n",
       "    .dataframe thead th {\n",
       "        text-align: right;\n",
       "    }\n",
       "</style>\n",
       "<table border=\"1\" class=\"dataframe\">\n",
       "  <thead>\n",
       "    <tr style=\"text-align: right;\">\n",
       "      <th></th>\n",
       "      <th>review_id</th>\n",
       "      <th>text</th>\n",
       "      <th>stars</th>\n",
       "    </tr>\n",
       "  </thead>\n",
       "  <tbody>\n",
       "    <tr>\n",
       "      <th>0</th>\n",
       "      <td>Q1sbwvVQXV2734tPgoKj4Q</td>\n",
       "      <td>Total bill for this horrible service? Over $8G...</td>\n",
       "      <td>1</td>\n",
       "    </tr>\n",
       "    <tr>\n",
       "      <th>1</th>\n",
       "      <td>GJXCdrto3ASJOqKeVWPi6Q</td>\n",
       "      <td>I *adore* Travis at the Hard Rock's new Kelly ...</td>\n",
       "      <td>5</td>\n",
       "    </tr>\n",
       "    <tr>\n",
       "      <th>2</th>\n",
       "      <td>2TzJjDVDEuAW6MR5Vuc1ug</td>\n",
       "      <td>I have to say that this office really has it t...</td>\n",
       "      <td>5</td>\n",
       "    </tr>\n",
       "    <tr>\n",
       "      <th>3</th>\n",
       "      <td>yi0R0Ugj_xUx_Nek0-_Qig</td>\n",
       "      <td>Went in for a lunch. Steak sandwich was delici...</td>\n",
       "      <td>5</td>\n",
       "    </tr>\n",
       "    <tr>\n",
       "      <th>4</th>\n",
       "      <td>11a8sVPMUFtaC7_ABRkmtw</td>\n",
       "      <td>Today was my second out of three sessions I ha...</td>\n",
       "      <td>1</td>\n",
       "    </tr>\n",
       "    <tr>\n",
       "      <th>...</th>\n",
       "      <td>...</td>\n",
       "      <td>...</td>\n",
       "      <td>...</td>\n",
       "    </tr>\n",
       "    <tr>\n",
       "      <th>533576</th>\n",
       "      <td>2vQO_kmSr6YPBrR8GH_FPA</td>\n",
       "      <td>Dr Young and her assistants take obvious pride...</td>\n",
       "      <td>5</td>\n",
       "    </tr>\n",
       "    <tr>\n",
       "      <th>533577</th>\n",
       "      <td>DUdLTGVpgsi0sv_g4A5ITQ</td>\n",
       "      <td>We started our 20 month of daughter here on an...</td>\n",
       "      <td>5</td>\n",
       "    </tr>\n",
       "    <tr>\n",
       "      <th>533578</th>\n",
       "      <td>AKGELpRNTTXajuZHbPxdJg</td>\n",
       "      <td>First of all, they are supposed to open at 9:0...</td>\n",
       "      <td>2</td>\n",
       "    </tr>\n",
       "    <tr>\n",
       "      <th>533579</th>\n",
       "      <td>ghYZM7lqzjej05I_T3vYyA</td>\n",
       "      <td>It's not often that you visit a company and th...</td>\n",
       "      <td>5</td>\n",
       "    </tr>\n",
       "    <tr>\n",
       "      <th>533580</th>\n",
       "      <td>gupUBwWRb13IvQhlKd6wdg</td>\n",
       "      <td>We had great experience with quest limos this ...</td>\n",
       "      <td>5</td>\n",
       "    </tr>\n",
       "  </tbody>\n",
       "</table>\n",
       "<p>533581 rows × 3 columns</p>\n",
       "</div>"
      ],
      "text/plain": [
       "                     review_id  \\\n",
       "0       Q1sbwvVQXV2734tPgoKj4Q   \n",
       "1       GJXCdrto3ASJOqKeVWPi6Q   \n",
       "2       2TzJjDVDEuAW6MR5Vuc1ug   \n",
       "3       yi0R0Ugj_xUx_Nek0-_Qig   \n",
       "4       11a8sVPMUFtaC7_ABRkmtw   \n",
       "...                        ...   \n",
       "533576  2vQO_kmSr6YPBrR8GH_FPA   \n",
       "533577  DUdLTGVpgsi0sv_g4A5ITQ   \n",
       "533578  AKGELpRNTTXajuZHbPxdJg   \n",
       "533579  ghYZM7lqzjej05I_T3vYyA   \n",
       "533580  gupUBwWRb13IvQhlKd6wdg   \n",
       "\n",
       "                                                     text  stars  \n",
       "0       Total bill for this horrible service? Over $8G...      1  \n",
       "1       I *adore* Travis at the Hard Rock's new Kelly ...      5  \n",
       "2       I have to say that this office really has it t...      5  \n",
       "3       Went in for a lunch. Steak sandwich was delici...      5  \n",
       "4       Today was my second out of three sessions I ha...      1  \n",
       "...                                                   ...    ...  \n",
       "533576  Dr Young and her assistants take obvious pride...      5  \n",
       "533577  We started our 20 month of daughter here on an...      5  \n",
       "533578  First of all, they are supposed to open at 9:0...      2  \n",
       "533579  It's not often that you visit a company and th...      5  \n",
       "533580  We had great experience with quest limos this ...      5  \n",
       "\n",
       "[533581 rows x 3 columns]"
      ]
     },
     "execution_count": 11,
     "metadata": {},
     "output_type": "execute_result"
    }
   ],
   "source": [
    "import pandas as pd\n",
    "data = pd.read_json(\"datasets/yelp_review_training_dataset.jsonl\", lines=True)\n",
    "data"
   ]
  },
  {
   "cell_type": "code",
   "execution_count": null,
   "id": "300339a2",
   "metadata": {},
   "outputs": [],
   "source": [
    "file = open('datasets/autocorrected_data.jsonl', 'w')\n",
    "\n",
    "for i in range(10000):\n",
    "    sentence = \"\"\n",
    "    corrections = sym_spell.lookup_compound(data[\"text\"][i], max_edit_distance=2, transfer_casing=False)\n",
    "    for c in corrections:\n",
    "        sentence += c.term\n",
    "    \n",
    "    json.dump({\"review_id\": data[\"review_id\"][i],\n",
    "               \"text\": sentence,\n",
    "               \"stars\": str(data[\"stars\"][i])}\n",
    "              , file)\n",
    "    \n",
    "    file.write('\\n')\n",
    "file.close()"
   ]
  },
  {
   "cell_type": "code",
   "execution_count": null,
   "id": "f7bc17ac",
   "metadata": {},
   "outputs": [],
   "source": []
  }
 ],
 "metadata": {
  "kernelspec": {
   "display_name": "Python 3",
   "language": "python",
   "name": "python3"
  },
  "language_info": {
   "codemirror_mode": {
    "name": "ipython",
    "version": 3
   },
   "file_extension": ".py",
   "mimetype": "text/x-python",
   "name": "python",
   "nbconvert_exporter": "python",
   "pygments_lexer": "ipython3",
   "version": "3.7.10"
  }
 },
 "nbformat": 4,
 "nbformat_minor": 5
}
